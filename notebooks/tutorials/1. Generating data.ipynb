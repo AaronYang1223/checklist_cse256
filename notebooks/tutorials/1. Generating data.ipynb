{
 "cells": [
  {
   "cell_type": "code",
   "execution_count": 39,
   "metadata": {},
   "outputs": [],
   "source": [
    "import checklist\n",
    "from checklist.editor import Editor\n",
    "from checklist.perturb import Perturb"
   ]
  },
  {
   "cell_type": "markdown",
   "metadata": {},
   "source": [
    "Before we create any tests, it's worth taking a tour of CheckList's abstractions for manipulating text data and coming up with examples. In this tutorial, we'll look at creating examples from scratch."
   ]
  },
  {
   "cell_type": "markdown",
   "metadata": {},
   "source": [
    "## Creating examples from scratch"
   ]
  },
  {
   "cell_type": "markdown",
   "metadata": {},
   "source": [
    "### Templates"
   ]
  },
  {
   "cell_type": "markdown",
   "metadata": {},
   "source": [
    "First, we'll create an editor:"
   ]
  },
  {
   "cell_type": "code",
   "execution_count": 40,
   "metadata": {},
   "outputs": [],
   "source": [
    "editor = Editor()"
   ]
  },
  {
   "cell_type": "markdown",
   "metadata": {},
   "source": [
    "The editor allows us to fill in templates with lists of 'fill-ins', and doing cartesian products. For example:"
   ]
  },
  {
   "cell_type": "code",
   "execution_count": 41,
   "metadata": {},
   "outputs": [
    {
     "data": {
      "text/plain": [
       "['This is a good movie.',\n",
       " 'This is a great movie.',\n",
       " 'This is a awesome movie.',\n",
       " 'This is a excellent movie.']"
      ]
     },
     "execution_count": 41,
     "metadata": {},
     "output_type": "execute_result"
    }
   ],
   "source": [
    "ret = editor.template('This is a {adj} movie.', adj=['good', 'great', 'awesome', 'excellent'])\n",
    "ret.data"
   ]
  },
  {
   "cell_type": "markdown",
   "metadata": {},
   "source": [
    "`editor.template` returns a Munch (a glorified dict which allows us to call `ret.data` instead of `ret['data']`). \n",
    "If you set any of the arguments `labels`, `meta`, or `save`, additional fields will exist in `ret`. Here is an example, notice how `ret.labels` now has a label for each example in `ret.data`:"
   ]
  },
  {
   "cell_type": "code",
   "execution_count": 42,
   "metadata": {},
   "outputs": [
    {
     "data": {
      "text/plain": [
       "[1, 1, 1, 1]"
      ]
     },
     "execution_count": 42,
     "metadata": {},
     "output_type": "execute_result"
    }
   ],
   "source": [
    "ret = editor.template('This is a {adj} movie.', adj=['good', 'great', 'awesome', 'excellent'], labels=1,\n",
    "                      meta=True, save=True)\n",
    "ret.labels"
   ]
  },
  {
   "cell_type": "markdown",
   "metadata": {},
   "source": [
    "Setting `meta=True` gives us the fill in values for each example in `ret.data`:"
   ]
  },
  {
   "cell_type": "code",
   "execution_count": 43,
   "metadata": {},
   "outputs": [
    {
     "name": "stdout",
     "output_type": "stream",
     "text": [
      "This is a good movie. {'adj': 'good'}\n",
      "This is a great movie. {'adj': 'great'}\n"
     ]
    }
   ],
   "source": [
    "print(ret.data[0], ret.meta[0])\n",
    "print(ret.data[1], ret.meta[1])"
   ]
  },
  {
   "cell_type": "markdown",
   "metadata": {},
   "source": [
    "Notice we had a bug before: 'This is a excellent movie' is not gramatically correct.  \n",
    "You can set an option in the template to use the right article before a fill-in:"
   ]
  },
  {
   "cell_type": "code",
   "execution_count": 44,
   "metadata": {},
   "outputs": [
    {
     "data": {
      "text/plain": [
       "['This is a good movie.',\n",
       " 'This is a great movie.',\n",
       " 'This is an awesome movie.',\n",
       " 'This is an excellent movie.']"
      ]
     },
     "execution_count": 44,
     "metadata": {},
     "output_type": "execute_result"
    }
   ],
   "source": [
    "ret = editor.template('This is {a:adj} movie.', adj=['good', 'great', 'awesome', 'excellent'])\n",
    "ret.data"
   ]
  },
  {
   "cell_type": "markdown",
   "metadata": {},
   "source": [
    "Now, the first argument does not need to be a single string. It can be a list, a tuple, or a dict. The same is true of the `labels` parameter:"
   ]
  },
  {
   "cell_type": "code",
   "execution_count": 45,
   "metadata": {},
   "outputs": [
    {
     "name": "stdout",
     "output_type": "stream",
     "text": [
      "{'question': 'Is this a good movie?', 'context': 'This is a good movie.'}\n",
      "Yes, this is good.\n",
      "\n",
      "{'question': 'Is this a great movie?', 'context': 'This is a great movie.'}\n",
      "Yes, this is great.\n",
      "\n"
     ]
    }
   ],
   "source": [
    "ret = editor.template({'question': 'Is this a {adj} movie?',\n",
    "                       'context': 'This is a {adj} movie.' },\n",
    "                      labels='Yes, this is {adj}.',\n",
    "                      adj=['good', 'great', 'awesome', 'excellent'])\n",
    "print(ret.data[0])\n",
    "print(ret.labels[0])\n",
    "print()\n",
    "print(ret.data[1])\n",
    "print(ret.labels[1])\n",
    "print()"
   ]
  },
  {
   "cell_type": "markdown",
   "metadata": {},
   "source": [
    "### Lexicons"
   ]
  },
  {
   "cell_type": "markdown",
   "metadata": {},
   "source": [
    "The editor has built-in lexicons, which you can use in templates without having to specify the fill-in values."
   ]
  },
  {
   "cell_type": "code",
   "execution_count": 46,
   "metadata": {},
   "outputs": [
    {
     "name": "stdout",
     "output_type": "stream",
     "text": [
      "['sentiment', 'male', 'female', 'first_name', 'first_pronoun', 'last_name', 'country', 'nationality', 'city', 'religion', 'religion_adj', 'sexual_adj', 'country_city', 'male_from', 'female_from', 'last_from']\n"
     ]
    }
   ],
   "source": [
    "print(list(editor.lexicons.keys()))"
   ]
  },
  {
   "cell_type": "code",
   "execution_count": 47,
   "metadata": {},
   "outputs": [
    {
     "data": {
      "text/plain": [
       "['John is not friends with Mary',\n",
       " 'John is not friends with Elizabeth',\n",
       " 'John is not friends with Margaret',\n",
       " 'John is not friends with Sarah']"
      ]
     },
     "execution_count": 47,
     "metadata": {},
     "output_type": "execute_result"
    }
   ],
   "source": [
    "ret = editor.template('{male} is not friends with {female}')\n",
    "ret.data[0:4]"
   ]
  },
  {
   "cell_type": "markdown",
   "metadata": {},
   "source": [
    "You can also use different versions of the same tag in a template by adding an integer to the end, e.g.:"
   ]
  },
  {
   "cell_type": "code",
   "execution_count": 48,
   "metadata": {},
   "outputs": [
    {
     "data": {
      "text/plain": [
       "['John is not friends with John',\n",
       " 'John is not friends with William',\n",
       " 'John is not friends with James',\n",
       " 'John is not friends with David']"
      ]
     },
     "execution_count": 48,
     "metadata": {},
     "output_type": "execute_result"
    }
   ],
   "source": [
    "ret = editor.template('{male1} is not friends with {male2}')\n",
    "ret.data[0:4]"
   ]
  },
  {
   "cell_type": "markdown",
   "metadata": {},
   "source": [
    "If you set `remove_duplicates` to True, you will never get two fill-ins with the same value within an example:"
   ]
  },
  {
   "cell_type": "code",
   "execution_count": 49,
   "metadata": {},
   "outputs": [
    {
     "data": {
      "text/plain": [
       "['John is not friends with William',\n",
       " 'John is not friends with James',\n",
       " 'John is not friends with David',\n",
       " 'John is not friends with Robert']"
      ]
     },
     "execution_count": 49,
     "metadata": {},
     "output_type": "execute_result"
    }
   ],
   "source": [
    "ret = editor.template('{male1} is not friends with {male2}', remove_duplicates=True)\n",
    "ret.data[0:4]"
   ]
  },
  {
   "cell_type": "markdown",
   "metadata": {},
   "source": [
    "You can also use different versions for tags that are not in the lexicons:"
   ]
  },
  {
   "cell_type": "code",
   "execution_count": 50,
   "metadata": {},
   "outputs": [
    {
     "data": {
      "text/plain": [
       "['good is not the same as bad',\n",
       " 'good is not the same as great',\n",
       " 'bad is not the same as good',\n",
       " 'bad is not the same as great']"
      ]
     },
     "execution_count": 50,
     "metadata": {},
     "output_type": "execute_result"
    }
   ],
   "source": [
    "ret = editor.template('{adj1} is not the same as {adj2}', adj=['good', 'bad', 'great'], remove_duplicates=True)\n",
    "ret.data[0:4]"
   ]
  },
  {
   "cell_type": "markdown",
   "metadata": {},
   "source": [
    "Finally, you can also add tags to the lexicons and reuse them later:"
   ]
  },
  {
   "cell_type": "code",
   "execution_count": 51,
   "metadata": {},
   "outputs": [],
   "source": [
    "editor.add_lexicon('adj', ['good', 'bad', 'great', 'terrible'])"
   ]
  },
  {
   "cell_type": "code",
   "execution_count": 52,
   "metadata": {},
   "outputs": [
    {
     "data": {
      "text/plain": [
       "['good is not the same as bad',\n",
       " 'good is not the same as great',\n",
       " 'good is not the same as terrible',\n",
       " 'bad is not the same as good']"
      ]
     },
     "execution_count": 52,
     "metadata": {},
     "output_type": "execute_result"
    }
   ],
   "source": [
    "ret = editor.template('{adj} is not the same as {adj2}', remove_duplicates=True)\n",
    "ret.data[:4]"
   ]
  },
  {
   "cell_type": "markdown",
   "metadata": {},
   "source": [
    "### Masked Language Model Suggestion"
   ]
  },
  {
   "cell_type": "markdown",
   "metadata": {},
   "source": [
    "You can use a masked language model to fill-in templates directly by using the special tag `{mask}`:"
   ]
  },
  {
   "cell_type": "code",
   "execution_count": 53,
   "metadata": {},
   "outputs": [
    {
     "data": {
      "text/plain": [
       "['This is a good idea.',\n",
       " 'This is a good example.',\n",
       " 'This is a good sign.',\n",
       " 'This is a good thing.',\n",
       " 'This is a good start.']"
      ]
     },
     "execution_count": 53,
     "metadata": {},
     "output_type": "execute_result"
    }
   ],
   "source": [
    "ret = editor.template('This is {a:adj} {mask}.', remove_duplicates=True)\n",
    "ret.data[:5]"
   ]
  },
  {
   "cell_type": "markdown",
   "metadata": {},
   "source": [
    "You can also add multiple masks to a single example:"
   ]
  },
  {
   "cell_type": "code",
   "execution_count": 54,
   "metadata": {},
   "outputs": [
    {
     "data": {
      "text/plain": [
       "['This is a good history lesson.',\n",
       " 'This is a good news story.',\n",
       " 'This is a good chess move.',\n",
       " 'This is a good programming language.',\n",
       " 'This is a good chess piece.']"
      ]
     },
     "execution_count": 54,
     "metadata": {},
     "output_type": "execute_result"
    }
   ],
   "source": [
    "ret = editor.template('This is {a:adj} {mask} {mask}.', remove_duplicates=True)\n",
    "ret.data[:5]"
   ]
  },
  {
   "cell_type": "markdown",
   "metadata": {},
   "source": [
    "Of course, sometimes you want to filter out some of the language model suggestions. You can use `editor.suggest` to just get the suggested words or tuples:"
   ]
  },
  {
   "cell_type": "code",
   "execution_count": 55,
   "metadata": {},
   "outputs": [
    {
     "data": {
      "text/plain": [
       "['idea', 'example', 'sign', 'thing', 'start']"
      ]
     },
     "execution_count": 55,
     "metadata": {},
     "output_type": "execute_result"
    }
   ],
   "source": [
    "editor.suggest('This is {a:adj} {mask}.')[:5]"
   ]
  },
  {
   "cell_type": "code",
   "execution_count": 56,
   "metadata": {},
   "outputs": [
    {
     "data": {
      "text/plain": [
       "[('history', 'lesson'),\n",
       " ('news', 'story'),\n",
       " ('chess', 'move'),\n",
       " ('programming', 'language'),\n",
       " ('chess', 'piece')]"
      ]
     },
     "execution_count": 56,
     "metadata": {},
     "output_type": "execute_result"
    }
   ],
   "source": [
    "editor.suggest('This is {a:adj} {mask} {mask}.')[:5]"
   ]
  },
  {
   "cell_type": "markdown",
   "metadata": {},
   "source": [
    "Finally, you can use a very handy visualization to select suggestions from a list.\n",
    "In the example below, we select only positive adjectives.  \n",
    "(We use a gif here for the notebook to work in preview mode)"
   ]
  },
  {
   "cell_type": "code",
   "execution_count": 59,
   "metadata": {},
   "outputs": [
    {
     "data": {
      "application/vnd.jupyter.widget-view+json": {
       "model_id": "77a82b4e2d3b406780730f057f6af4ae",
       "version_major": 2,
       "version_minor": 0
      },
      "text/plain": [
       "TemplateEditor(bert_suggests=['amazing', 'excellent', 'interesting', 'awful', 'action', 'awesome', 'incredible…"
      ]
     },
     "metadata": {},
     "output_type": "display_data"
    }
   ],
   "source": [
    "# from IPython.display import HTML, Image\n",
    "# with open('visual_suggest.gif','rb') as f:\n",
    "#     display(Image(data=f.read(), format='png'))\n",
    "editor.visual_suggest('This is {a:mask} movie.')\n",
    "\n"
   ]
  },
  {
   "cell_type": "code",
   "execution_count": 60,
   "metadata": {
    "scrolled": true
   },
   "outputs": [
    {
     "data": {
      "text/plain": [
       "['original']"
      ]
     },
     "execution_count": 60,
     "metadata": {},
     "output_type": "execute_result"
    }
   ],
   "source": [
    "editor.selected_suggestions"
   ]
  },
  {
   "cell_type": "markdown",
   "metadata": {},
   "source": [
    "### Wordnet"
   ]
  },
  {
   "cell_type": "markdown",
   "metadata": {},
   "source": [
    "You can also ask for context-specific suggestions based on wordnet categories (synonyms, antonyms, hypernyms, hyponyms):"
   ]
  },
  {
   "cell_type": "code",
   "execution_count": 61,
   "metadata": {},
   "outputs": [
    {
     "data": {
      "text/plain": [
       "['spicy', 'raging']"
      ]
     },
     "execution_count": 61,
     "metadata": {},
     "output_type": "execute_result"
    }
   ],
   "source": [
    "editor.synonyms('My drink is hot.', 'hot')"
   ]
  },
  {
   "cell_type": "code",
   "execution_count": 62,
   "metadata": {},
   "outputs": [
    {
     "data": {
      "text/plain": [
       "[]"
      ]
     },
     "execution_count": 62,
     "metadata": {},
     "output_type": "execute_result"
    }
   ],
   "source": [
    "# spicy does not fit here\n",
    "editor.synonyms('It is hot outside.', 'hot')"
   ]
  },
  {
   "cell_type": "code",
   "execution_count": 63,
   "metadata": {},
   "outputs": [
    {
     "data": {
      "text/plain": [
       "['cold']"
      ]
     },
     "execution_count": 63,
     "metadata": {},
     "output_type": "execute_result"
    }
   ],
   "source": [
    "editor.antonyms('My drink is hot.', 'hot')"
   ]
  },
  {
   "cell_type": "code",
   "execution_count": 64,
   "metadata": {},
   "outputs": [
    {
     "data": {
      "text/plain": [
       "['cold']"
      ]
     },
     "execution_count": 64,
     "metadata": {},
     "output_type": "execute_result"
    }
   ],
   "source": [
    "editor.antonyms('It is hot outside.', 'hot')"
   ]
  },
  {
   "cell_type": "code",
   "execution_count": 65,
   "metadata": {},
   "outputs": [
    {
     "data": {
      "text/plain": [
       "['animal']"
      ]
     },
     "execution_count": 65,
     "metadata": {},
     "output_type": "execute_result"
    }
   ],
   "source": [
    "editor.hypernyms('My dog eats other animals.', 'dog')"
   ]
  },
  {
   "cell_type": "code",
   "execution_count": 66,
   "metadata": {},
   "outputs": [
    {
     "data": {
      "text/plain": [
       "['dog', 'pet', 'baby', 'puppy', 'kitten']"
      ]
     },
     "execution_count": 66,
     "metadata": {},
     "output_type": "execute_result"
    }
   ],
   "source": [
    "editor.hyponyms('My animal eats other animals.', 'animal')[:5]"
   ]
  },
  {
   "cell_type": "code",
   "execution_count": 27,
   "metadata": {},
   "outputs": [
    {
     "data": {
      "text/plain": [
       "['pet']"
      ]
     },
     "execution_count": 27,
     "metadata": {},
     "output_type": "execute_result"
    }
   ],
   "source": [
    "# Hyponyms of hypernym\n",
    "editor.related_words('My dog eats other animals.', 'dog')[:5]"
   ]
  },
  {
   "cell_type": "code",
   "execution_count": null,
   "metadata": {},
   "outputs": [],
   "source": []
  }
 ],
 "metadata": {
  "kernelspec": {
   "display_name": "Python 3 (ipykernel)",
   "language": "python",
   "name": "python3"
  },
  "language_info": {
   "codemirror_mode": {
    "name": "ipython",
    "version": 3
   },
   "file_extension": ".py",
   "mimetype": "text/x-python",
   "name": "python",
   "nbconvert_exporter": "python",
   "pygments_lexer": "ipython3",
   "version": "3.9.20"
  }
 },
 "nbformat": 4,
 "nbformat_minor": 2
}
